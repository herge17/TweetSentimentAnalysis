{
  "cells": [
    {
      "cell_type": "code",
      "source": [
        "!pip install nlp"
      ],
      "metadata": {
        "colab": {
          "base_uri": "https://localhost:8080/"
        },
        "id": "CkYl59dqawMb",
        "outputId": "81a775c8-a617-4d2f-e036-c15c73e33c6e"
      },
      "id": "CkYl59dqawMb",
      "execution_count": 83,
      "outputs": [
        {
          "output_type": "stream",
          "name": "stdout",
          "text": [
            "Requirement already satisfied: nlp in /usr/local/lib/python3.10/dist-packages (0.4.0)\n",
            "Requirement already satisfied: numpy in /usr/local/lib/python3.10/dist-packages (from nlp) (1.23.5)\n",
            "Requirement already satisfied: pyarrow>=0.16.0 in /usr/local/lib/python3.10/dist-packages (from nlp) (9.0.0)\n",
            "Requirement already satisfied: dill in /usr/local/lib/python3.10/dist-packages (from nlp) (0.3.7)\n",
            "Requirement already satisfied: pandas in /usr/local/lib/python3.10/dist-packages (from nlp) (1.5.3)\n",
            "Requirement already satisfied: requests>=2.19.0 in /usr/local/lib/python3.10/dist-packages (from nlp) (2.31.0)\n",
            "Requirement already satisfied: tqdm>=4.27 in /usr/local/lib/python3.10/dist-packages (from nlp) (4.66.1)\n",
            "Requirement already satisfied: filelock in /usr/local/lib/python3.10/dist-packages (from nlp) (3.12.2)\n",
            "Requirement already satisfied: xxhash in /usr/local/lib/python3.10/dist-packages (from nlp) (3.3.0)\n",
            "Requirement already satisfied: charset-normalizer<4,>=2 in /usr/local/lib/python3.10/dist-packages (from requests>=2.19.0->nlp) (3.2.0)\n",
            "Requirement already satisfied: idna<4,>=2.5 in /usr/local/lib/python3.10/dist-packages (from requests>=2.19.0->nlp) (3.4)\n",
            "Requirement already satisfied: urllib3<3,>=1.21.1 in /usr/local/lib/python3.10/dist-packages (from requests>=2.19.0->nlp) (2.0.4)\n",
            "Requirement already satisfied: certifi>=2017.4.17 in /usr/local/lib/python3.10/dist-packages (from requests>=2.19.0->nlp) (2023.7.22)\n",
            "Requirement already satisfied: python-dateutil>=2.8.1 in /usr/local/lib/python3.10/dist-packages (from pandas->nlp) (2.8.2)\n",
            "Requirement already satisfied: pytz>=2020.1 in /usr/local/lib/python3.10/dist-packages (from pandas->nlp) (2023.3)\n",
            "Requirement already satisfied: six>=1.5 in /usr/local/lib/python3.10/dist-packages (from python-dateutil>=2.8.1->pandas->nlp) (1.16.0)\n"
          ]
        }
      ]
    },
    {
      "cell_type": "code",
      "source": [
        "!pip install datasets"
      ],
      "metadata": {
        "colab": {
          "base_uri": "https://localhost:8080/"
        },
        "id": "4ch-_n4za-PZ",
        "outputId": "c17e8e47-fdf4-4530-fb42-ea356a1a1ecb"
      },
      "id": "4ch-_n4za-PZ",
      "execution_count": 84,
      "outputs": [
        {
          "output_type": "stream",
          "name": "stdout",
          "text": [
            "Requirement already satisfied: datasets in /usr/local/lib/python3.10/dist-packages (2.14.4)\n",
            "Requirement already satisfied: numpy>=1.17 in /usr/local/lib/python3.10/dist-packages (from datasets) (1.23.5)\n",
            "Requirement already satisfied: pyarrow>=8.0.0 in /usr/local/lib/python3.10/dist-packages (from datasets) (9.0.0)\n",
            "Requirement already satisfied: dill<0.3.8,>=0.3.0 in /usr/local/lib/python3.10/dist-packages (from datasets) (0.3.7)\n",
            "Requirement already satisfied: pandas in /usr/local/lib/python3.10/dist-packages (from datasets) (1.5.3)\n",
            "Requirement already satisfied: requests>=2.19.0 in /usr/local/lib/python3.10/dist-packages (from datasets) (2.31.0)\n",
            "Requirement already satisfied: tqdm>=4.62.1 in /usr/local/lib/python3.10/dist-packages (from datasets) (4.66.1)\n",
            "Requirement already satisfied: xxhash in /usr/local/lib/python3.10/dist-packages (from datasets) (3.3.0)\n",
            "Requirement already satisfied: multiprocess in /usr/local/lib/python3.10/dist-packages (from datasets) (0.70.15)\n",
            "Requirement already satisfied: fsspec[http]>=2021.11.1 in /usr/local/lib/python3.10/dist-packages (from datasets) (2023.6.0)\n",
            "Requirement already satisfied: aiohttp in /usr/local/lib/python3.10/dist-packages (from datasets) (3.8.5)\n",
            "Requirement already satisfied: huggingface-hub<1.0.0,>=0.14.0 in /usr/local/lib/python3.10/dist-packages (from datasets) (0.16.4)\n",
            "Requirement already satisfied: packaging in /usr/local/lib/python3.10/dist-packages (from datasets) (23.1)\n",
            "Requirement already satisfied: pyyaml>=5.1 in /usr/local/lib/python3.10/dist-packages (from datasets) (6.0.1)\n",
            "Requirement already satisfied: attrs>=17.3.0 in /usr/local/lib/python3.10/dist-packages (from aiohttp->datasets) (23.1.0)\n",
            "Requirement already satisfied: charset-normalizer<4.0,>=2.0 in /usr/local/lib/python3.10/dist-packages (from aiohttp->datasets) (3.2.0)\n",
            "Requirement already satisfied: multidict<7.0,>=4.5 in /usr/local/lib/python3.10/dist-packages (from aiohttp->datasets) (6.0.4)\n",
            "Requirement already satisfied: async-timeout<5.0,>=4.0.0a3 in /usr/local/lib/python3.10/dist-packages (from aiohttp->datasets) (4.0.3)\n",
            "Requirement already satisfied: yarl<2.0,>=1.0 in /usr/local/lib/python3.10/dist-packages (from aiohttp->datasets) (1.9.2)\n",
            "Requirement already satisfied: frozenlist>=1.1.1 in /usr/local/lib/python3.10/dist-packages (from aiohttp->datasets) (1.4.0)\n",
            "Requirement already satisfied: aiosignal>=1.1.2 in /usr/local/lib/python3.10/dist-packages (from aiohttp->datasets) (1.3.1)\n",
            "Requirement already satisfied: filelock in /usr/local/lib/python3.10/dist-packages (from huggingface-hub<1.0.0,>=0.14.0->datasets) (3.12.2)\n",
            "Requirement already satisfied: typing-extensions>=3.7.4.3 in /usr/local/lib/python3.10/dist-packages (from huggingface-hub<1.0.0,>=0.14.0->datasets) (4.7.1)\n",
            "Requirement already satisfied: idna<4,>=2.5 in /usr/local/lib/python3.10/dist-packages (from requests>=2.19.0->datasets) (3.4)\n",
            "Requirement already satisfied: urllib3<3,>=1.21.1 in /usr/local/lib/python3.10/dist-packages (from requests>=2.19.0->datasets) (2.0.4)\n",
            "Requirement already satisfied: certifi>=2017.4.17 in /usr/local/lib/python3.10/dist-packages (from requests>=2.19.0->datasets) (2023.7.22)\n",
            "Requirement already satisfied: python-dateutil>=2.8.1 in /usr/local/lib/python3.10/dist-packages (from pandas->datasets) (2.8.2)\n",
            "Requirement already satisfied: pytz>=2020.1 in /usr/local/lib/python3.10/dist-packages (from pandas->datasets) (2023.3)\n",
            "Requirement already satisfied: six>=1.5 in /usr/local/lib/python3.10/dist-packages (from python-dateutil>=2.8.1->pandas->datasets) (1.16.0)\n"
          ]
        }
      ]
    },
    {
      "cell_type": "code",
      "source": [
        "!pip install -q -U keras-tuner"
      ],
      "metadata": {
        "id": "msUBBJMm4NpD"
      },
      "id": "msUBBJMm4NpD",
      "execution_count": 85,
      "outputs": []
    },
    {
      "cell_type": "code",
      "execution_count": 86,
      "id": "76b787fe",
      "metadata": {
        "id": "76b787fe"
      },
      "outputs": [],
      "source": [
        "import tensorflow as tf\n",
        "import matplotlib.pyplot as plt\n",
        "import numpy as np\n",
        "import random\n",
        "import nlp\n",
        "from tqdm import tqdm\n",
        "import nltk\n",
        "from nltk.stem import WordNetLemmatizer\n",
        "from nltk.tokenize import word_tokenize"
      ]
    },
    {
      "cell_type": "code",
      "source": [
        "from tensorflow import keras\n",
        "import keras_tuner as kt"
      ],
      "metadata": {
        "id": "z-s9X0jY3sF9"
      },
      "id": "z-s9X0jY3sF9",
      "execution_count": 87,
      "outputs": []
    },
    {
      "cell_type": "code",
      "source": [
        "nltk.download('punkt')\n",
        "nltk.download('wordnet')"
      ],
      "metadata": {
        "colab": {
          "base_uri": "https://localhost:8080/"
        },
        "id": "BIjqfWzOhy2u",
        "outputId": "22b4c9c5-606d-42b8-808a-3dbe14b95e71"
      },
      "id": "BIjqfWzOhy2u",
      "execution_count": 88,
      "outputs": [
        {
          "output_type": "stream",
          "name": "stderr",
          "text": [
            "[nltk_data] Downloading package punkt to /root/nltk_data...\n",
            "[nltk_data]   Package punkt is already up-to-date!\n",
            "[nltk_data] Downloading package wordnet to /root/nltk_data...\n",
            "[nltk_data]   Package wordnet is already up-to-date!\n"
          ]
        },
        {
          "output_type": "execute_result",
          "data": {
            "text/plain": [
              "True"
            ]
          },
          "metadata": {},
          "execution_count": 88
        }
      ]
    },
    {
      "cell_type": "code",
      "execution_count": 89,
      "id": "b159f243",
      "metadata": {
        "id": "b159f243"
      },
      "outputs": [],
      "source": [
        "from datasets import load_dataset"
      ]
    },
    {
      "cell_type": "code",
      "execution_count": 90,
      "id": "98fd12dc",
      "metadata": {
        "id": "98fd12dc"
      },
      "outputs": [],
      "source": [
        "dataset=load_dataset('emotion')"
      ]
    },
    {
      "cell_type": "code",
      "execution_count": 91,
      "id": "a60ddb4b",
      "metadata": {
        "colab": {
          "base_uri": "https://localhost:8080/"
        },
        "id": "a60ddb4b",
        "outputId": "7ae282b6-f14a-48e8-d233-2d630822d60b"
      },
      "outputs": [
        {
          "output_type": "execute_result",
          "data": {
            "text/plain": [
              "DatasetDict({\n",
              "    train: Dataset({\n",
              "        features: ['text', 'label'],\n",
              "        num_rows: 16000\n",
              "    })\n",
              "    validation: Dataset({\n",
              "        features: ['text', 'label'],\n",
              "        num_rows: 2000\n",
              "    })\n",
              "    test: Dataset({\n",
              "        features: ['text', 'label'],\n",
              "        num_rows: 2000\n",
              "    })\n",
              "})"
            ]
          },
          "metadata": {},
          "execution_count": 91
        }
      ],
      "source": [
        "dataset"
      ]
    },
    {
      "cell_type": "code",
      "execution_count": 92,
      "id": "8afe7580",
      "metadata": {
        "id": "8afe7580"
      },
      "outputs": [],
      "source": [
        "train=dataset['train']\n",
        "val=dataset['validation']\n",
        "test=dataset['test']"
      ]
    },
    {
      "cell_type": "code",
      "execution_count": 93,
      "id": "b2605ea4",
      "metadata": {
        "id": "b2605ea4"
      },
      "outputs": [],
      "source": [
        "def get_info(data):\n",
        "    texts=[x['text'] for x in data]\n",
        "    labels=[x['label'] for x in data]\n",
        "    return texts,labels"
      ]
    },
    {
      "cell_type": "code",
      "execution_count": 94,
      "id": "c95dd5fe",
      "metadata": {
        "id": "c95dd5fe"
      },
      "outputs": [],
      "source": [
        "texts,labels=get_info(train)"
      ]
    },
    {
      "cell_type": "code",
      "execution_count": 140,
      "id": "0c9f24a6",
      "metadata": {
        "colab": {
          "base_uri": "https://localhost:8080/"
        },
        "id": "0c9f24a6",
        "outputId": "fa5f8a59-7ca0-4679-f4e5-dd6a7517c7b3"
      },
      "outputs": [
        {
          "output_type": "stream",
          "name": "stdout",
          "text": [
            "i didnt feel humiliated 0\n",
            "i can go from feeling so hopeless to so damned hopeful just from being around someone who cares and is awake 0\n",
            "im grabbing a minute to post i feel greedy wrong 3\n",
            "i am ever feeling nostalgic about the fireplace i will know that it is still on the property 2\n",
            "i am feeling grouchy 3\n"
          ]
        }
      ],
      "source": [
        "for i in range(5):\n",
        "  print(texts[i],labels[i])"
      ]
    },
    {
      "cell_type": "code",
      "source": [
        "def lemmatize_text(text):\n",
        "    lemmatizer = WordNetLemmatizer()\n",
        "    tokens = word_tokenize(text)\n",
        "    lemmatized_tokens = [lemmatizer.lemmatize(token) for token in tokens]\n",
        "    return ' '.join(lemmatized_tokens)\n",
        "\n",
        "\n",
        "train_texts, train_labels = get_info(train)\n",
        "lemmatized_train_texts = [lemmatize_text(text) for text in train_texts]\n",
        "labels = [x['label'] for x in train]"
      ],
      "metadata": {
        "id": "UziT2zmWm15n"
      },
      "id": "UziT2zmWm15n",
      "execution_count": 96,
      "outputs": []
    },
    {
      "cell_type": "code",
      "execution_count": 97,
      "id": "4db710e8",
      "metadata": {
        "id": "4db710e8"
      },
      "outputs": [],
      "source": [
        "from tensorflow.keras.preprocessing.text import Tokenizer"
      ]
    },
    {
      "cell_type": "code",
      "execution_count": 98,
      "id": "b4a54383",
      "metadata": {
        "id": "b4a54383"
      },
      "outputs": [],
      "source": [
        "tokenizer=Tokenizer(num_words=1000,oov_token='<UNK>')\n",
        "tokenizer.fit_on_texts(lemmatized_train_texts)"
      ]
    },
    {
      "cell_type": "code",
      "execution_count": 99,
      "id": "d2b40b9b",
      "metadata": {
        "colab": {
          "base_uri": "https://localhost:8080/"
        },
        "id": "d2b40b9b",
        "outputId": "b8817d7d-267f-4e80-8175-f9a849154c36"
      },
      "outputs": [
        {
          "output_type": "execute_result",
          "data": {
            "text/plain": [
              "[[2, 139, 3, 678]]"
            ]
          },
          "metadata": {},
          "execution_count": 99
        }
      ],
      "source": [
        "tokenizer.texts_to_sequences([texts[0]])"
      ]
    },
    {
      "cell_type": "code",
      "execution_count": 100,
      "id": "da4dbf42",
      "metadata": {
        "colab": {
          "base_uri": "https://localhost:8080/",
          "height": 430
        },
        "id": "da4dbf42",
        "outputId": "de6f1010-aa87-4a08-bae2-814b0f6b50ff"
      },
      "outputs": [
        {
          "output_type": "display_data",
          "data": {
            "text/plain": [
              "<Figure size 640x480 with 1 Axes>"
            ],
            "image/png": "[encoded data removed]"
          },
          "metadata": {}
        }
      ],
      "source": [
        "lengths=[len(t.split(' ')) for t in texts]\n",
        "plt.hist(lengths,bins=len(set(lengths)))\n",
        "plt.show()"
      ]
    },
    {
      "cell_type": "code",
      "execution_count": 101,
      "id": "feb98f7e",
      "metadata": {
        "id": "feb98f7e"
      },
      "outputs": [],
      "source": [
        "from tensorflow.keras.preprocessing.sequence import pad_sequences\n",
        "maxlength=50"
      ]
    },
    {
      "cell_type": "code",
      "execution_count": 102,
      "id": "35bed6e4",
      "metadata": {
        "id": "35bed6e4"
      },
      "outputs": [],
      "source": [
        "def get_seq(tokenizer,texts):\n",
        "    seq=tokenizer.texts_to_sequences(texts)\n",
        "    pad=pad_sequences(seq,truncating='post',padding='post',maxlen=maxlength)\n",
        "    return pad"
      ]
    },
    {
      "cell_type": "code",
      "execution_count": 103,
      "id": "af121891",
      "metadata": {
        "id": "af121891"
      },
      "outputs": [],
      "source": [
        "pad_train_seq=get_seq(tokenizer,lemmatized_train_texts)"
      ]
    },
    {
      "cell_type": "code",
      "execution_count": 104,
      "id": "b8de2419",
      "metadata": {
        "colab": {
          "base_uri": "https://localhost:8080/"
        },
        "id": "b8de2419",
        "outputId": "c1392ba2-a9db-4918-d5c2-26fcab56aee2"
      },
      "outputs": [
        {
          "output_type": "execute_result",
          "data": {
            "text/plain": [
              "array([  2, 139,   3, 678,   0,   0,   0,   0,   0,   0,   0,   0,   0,\n",
              "         0,   0,   0,   0,   0,   0,   0,   0,   0,   0,   0,   0,   0,\n",
              "         0,   0,   0,   0,   0,   0,   0,   0,   0,   0,   0,   0,   0,\n",
              "         0,   0,   0,   0,   0,   0,   0,   0,   0,   0,   0], dtype=int32)"
            ]
          },
          "metadata": {},
          "execution_count": 104
        }
      ],
      "source": [
        "pad_train_seq[0]"
      ]
    },
    {
      "cell_type": "code",
      "execution_count": 105,
      "id": "f2f90232",
      "metadata": {
        "colab": {
          "base_uri": "https://localhost:8080/"
        },
        "id": "f2f90232",
        "outputId": "f155251c-dd9a-4465-a3cf-35045711d165"
      },
      "outputs": [
        {
          "output_type": "stream",
          "name": "stdout",
          "text": [
            "{0, 1, 2, 3, 4, 5}\n"
          ]
        }
      ],
      "source": [
        "div=set(labels)\n",
        "print(div)"
      ]
    },
    {
      "cell_type": "code",
      "execution_count": 106,
      "id": "fcaf332a",
      "metadata": {
        "colab": {
          "base_uri": "https://localhost:8080/",
          "height": 447
        },
        "id": "fcaf332a",
        "outputId": "e6b7f0a4-ce24-4beb-e476-f385a7f131ed"
      },
      "outputs": [
        {
          "output_type": "execute_result",
          "data": {
            "text/plain": [
              "<function matplotlib.pyplot.show(close=None, block=None)>"
            ]
          },
          "metadata": {},
          "execution_count": 106
        },
        {
          "output_type": "display_data",
          "data": {
            "text/plain": [
              "<Figure size 640x480 with 1 Axes>"
            ],
            "image/png": "[encoded data removed]"
          },
          "metadata": {}
        }
      ],
      "source": [
        "plt.hist(labels,bins=11)\n",
        "plt.show"
      ]
    },
    {
      "cell_type": "code",
      "execution_count": 107,
      "id": "5baff3c0",
      "metadata": {
        "id": "5baff3c0"
      },
      "outputs": [],
      "source": [
        "div_to_no=dict((c,i) for i,c in enumerate(div))"
      ]
    },
    {
      "cell_type": "code",
      "execution_count": 108,
      "id": "38544633",
      "metadata": {
        "id": "38544633"
      },
      "outputs": [],
      "source": [
        "div_to_id=lambda labels:np.array([div_to_no.get(x) for x in labels])\n",
        "train_labels=div_to_id(labels)"
      ]
    },
    {
      "cell_type": "code",
      "source": [
        "val_texts, val_labels = get_info(val)\n",
        "lemmatized_val_texts = [lemmatize_text(text) for text in val_texts]\n",
        "val_seq = get_seq(tokenizer, lemmatized_val_texts)\n",
        "val_labels = div_to_id(val_labels)"
      ],
      "metadata": {
        "id": "dqey3LTfyt7R"
      },
      "id": "dqey3LTfyt7R",
      "execution_count": 109,
      "outputs": []
    },
    {
      "cell_type": "code",
      "source": [
        "test_texts, test_labels = get_info(test)\n",
        "lemmatized_test_texts = [lemmatize_text(text) for text in test_texts]\n",
        "test_seq = get_seq(tokenizer, lemmatized_test_texts)\n",
        "test_labels = div_to_id(test_labels)"
      ],
      "metadata": {
        "id": "NA1wBntzyv63"
      },
      "id": "NA1wBntzyv63",
      "execution_count": 110,
      "outputs": []
    },
    {
      "cell_type": "markdown",
      "source": [
        "Bidirectional LSTM with basic embedding"
      ],
      "metadata": {
        "id": "51sY4ySS9oA4"
      },
      "id": "51sY4ySS9oA4"
    },
    {
      "cell_type": "code",
      "execution_count": 111,
      "id": "0962cf88",
      "metadata": {
        "id": "0962cf88",
        "colab": {
          "base_uri": "https://localhost:8080/",
          "height": 53
        },
        "outputId": "f5ef835b-2f9f-45f7-ad6e-a2d29ad40ef0"
      },
      "outputs": [
        {
          "output_type": "execute_result",
          "data": {
            "text/plain": [
              "\"model=tf.keras.models.Sequential([\\n    tf.keras.layers.Embedding(1000,16,input_length=maxlength),\\n    tf.keras.layers.Bidirectional(tf.keras.layers.LSTM(20,return_sequences=True)),\\n    tf.keras.layers.Bidirectional(tf.keras.layers.LSTM(20)),\\n    tf.keras.layers.Dense(6,activation='softmax')\\n])\\nmodel.compile(\\n    loss='sparse_categorical_crossentropy',\\n    optimizer='adam',\\n    metrics=['accuracy']\\n)\""
            ],
            "application/vnd.google.colaboratory.intrinsic+json": {
              "type": "string"
            }
          },
          "metadata": {},
          "execution_count": 111
        }
      ],
      "source": [
        "'''model=tf.keras.models.Sequential([\n",
        "    tf.keras.layers.Embedding(1000,16,input_length=maxlength),\n",
        "    tf.keras.layers.Bidirectional(tf.keras.layers.LSTM(20,return_sequences=True)),\n",
        "    tf.keras.layers.Bidirectional(tf.keras.layers.LSTM(20)),\n",
        "    tf.keras.layers.Dense(6,activation='softmax')\n",
        "])\n",
        "model.compile(\n",
        "    loss='sparse_categorical_crossentropy',\n",
        "    optimizer='adam',\n",
        "    metrics=['accuracy']\n",
        ")'''"
      ]
    },
    {
      "cell_type": "code",
      "execution_count": 112,
      "id": "a8ddbec1",
      "metadata": {
        "id": "a8ddbec1"
      },
      "outputs": [],
      "source": [
        "#model.summary()"
      ]
    },
    {
      "cell_type": "code",
      "execution_count": 113,
      "id": "652ae2a6",
      "metadata": {
        "id": "652ae2a6"
      },
      "outputs": [],
      "source": [
        "val_texts,val_labels=get_info(val)\n",
        "val_seq=get_seq(tokenizer,val_texts)\n",
        "val_labels=div_to_id(val_labels)"
      ]
    },
    {
      "cell_type": "code",
      "source": [
        "#tuner = kt.RandomSearch(model,objective='val_accuracy',max_trials=5)"
      ],
      "metadata": {
        "id": "1J0vT20J3oU9"
      },
      "id": "1J0vT20J3oU9",
      "execution_count": 114,
      "outputs": []
    },
    {
      "cell_type": "code",
      "source": [
        "#tuner.search(pad_train_seq, train_labels, validation_data=(val_seq, val_labels))\n",
        "#best_model = tuner.get_best_models()[0]"
      ],
      "metadata": {
        "id": "vsmz-OAI4tYq"
      },
      "id": "vsmz-OAI4tYq",
      "execution_count": 115,
      "outputs": []
    },
    {
      "cell_type": "code",
      "source": [
        "def build_model(hp):\n",
        "    model = tf.keras.models.Sequential()\n",
        "    model.add(tf.keras.layers.Embedding(1000, hp.Int('embedding_units', min_value=8, max_value=32, step=8), input_length=maxlength))\n",
        "    model.add(tf.keras.layers.Bidirectional(tf.keras.layers.LSTM(hp.Int('lstm_units', min_value=16, max_value=64, step=16), return_sequences=True)))\n",
        "    model.add(tf.keras.layers.Bidirectional(tf.keras.layers.LSTM(hp.Int('lstm_units', min_value=16, max_value=64, step=16))))\n",
        "    model.add(tf.keras.layers.Dense(6, activation='softmax'))\n",
        "    model.compile(\n",
        "        loss='sparse_categorical_crossentropy',\n",
        "        optimizer='adam',\n",
        "        metrics=['accuracy']\n",
        "    )\n",
        "    return model\n",
        "\n",
        "\n",
        "tuner = kt.RandomSearch(\n",
        "    build_model,\n",
        "    objective='val_accuracy',\n",
        "    max_trials=10,\n",
        "    directory='tuner_directory',\n",
        "    project_name='emotion_classification'\n",
        ")\n",
        "\n",
        "\n",
        "\n",
        "\n",
        "tuner.search(pad_train_seq, train_labels, epochs=6, validation_data=(val_seq, val_labels))\n",
        "\n",
        "\n",
        "best_model = tuner.get_best_models(num_models=1)[0]"
      ],
      "metadata": {
        "colab": {
          "base_uri": "https://localhost:8080/"
        },
        "id": "O0Klnw505t-G",
        "outputId": "2e56c8e5-2468-49ea-ac92-7c428c8bd01c"
      },
      "id": "O0Klnw505t-G",
      "execution_count": 116,
      "outputs": [
        {
          "output_type": "stream",
          "name": "stdout",
          "text": [
            "Trial 10 Complete [00h 04m 06s]\n",
            "val_accuracy: 0.8604999780654907\n",
            "\n",
            "Best val_accuracy So Far: 0.8725000023841858\n",
            "Total elapsed time: 00h 37m 24s\n"
          ]
        }
      ]
    },
    {
      "cell_type": "code",
      "source": [
        "best_model.summary()"
      ],
      "metadata": {
        "colab": {
          "base_uri": "https://localhost:8080/"
        },
        "id": "Q6u-stFDKrM8",
        "outputId": "a4bd0694-9880-4835-86d6-23540fe5e3d2"
      },
      "id": "Q6u-stFDKrM8",
      "execution_count": 123,
      "outputs": [
        {
          "output_type": "stream",
          "name": "stdout",
          "text": [
            "Model: \"sequential\"\n",
            "_________________________________________________________________\n",
            " Layer (type)                Output Shape              Param #   \n",
            "=================================================================\n",
            " embedding (Embedding)       (None, 50, 16)            16000     \n",
            "                                                                 \n",
            " bidirectional (Bidirectiona  (None, 50, 96)           24960     \n",
            " l)                                                              \n",
            "                                                                 \n",
            " bidirectional_1 (Bidirectio  (None, 96)               55680     \n",
            " nal)                                                            \n",
            "                                                                 \n",
            " dense (Dense)               (None, 6)                 582       \n",
            "                                                                 \n",
            "=================================================================\n",
            "Total params: 97,222\n",
            "Trainable params: 97,222\n",
            "Non-trainable params: 0\n",
            "_________________________________________________________________\n"
          ]
        }
      ]
    },
    {
      "cell_type": "code",
      "execution_count": 117,
      "id": "ff55fb3f",
      "metadata": {
        "id": "ff55fb3f"
      },
      "outputs": [],
      "source": [
        "#analyser = model.fit(pad_train_seq, train_labels, validation_data=(val_seq, val_labels), epochs=30, callbacks=[tf.keras.callbacks.EarlyStopping(monitor='val_accuracy',patience=2)])\n",
        "#analyser=model.fit(\n",
        " #              pad_train_seq,train_labels,validation_data=(val_seq,val_labels),\n",
        "  #             callbacks=[tf.keras.callbacks.EarlyStopping(monitor='val_accuracy',patience=2)])"
      ]
    },
    {
      "cell_type": "code",
      "execution_count": 124,
      "id": "1bdfc48b",
      "metadata": {
        "id": "1bdfc48b"
      },
      "outputs": [],
      "source": [
        "test_texts,test_labels=get_info(test)\n",
        "test_seq=get_seq(tokenizer,test_texts)\n",
        "test_labels=div_to_id(test_labels)"
      ]
    },
    {
      "cell_type": "code",
      "source": [
        "test[0]"
      ],
      "metadata": {
        "colab": {
          "base_uri": "https://localhost:8080/"
        },
        "id": "GAMngvOIXtgL",
        "outputId": "2143f04b-7054-4e6c-84d7-9ff06b5b55bd"
      },
      "id": "GAMngvOIXtgL",
      "execution_count": 125,
      "outputs": [
        {
          "output_type": "execute_result",
          "data": {
            "text/plain": [
              "{'text': 'im feeling rather rotten so im not very ambitious right now',\n",
              " 'label': 0}"
            ]
          },
          "metadata": {},
          "execution_count": 125
        }
      ]
    },
    {
      "cell_type": "code",
      "execution_count": 126,
      "id": "c218c6d2",
      "metadata": {
        "colab": {
          "base_uri": "https://localhost:8080/"
        },
        "id": "c218c6d2",
        "outputId": "756aeb27-d949-4cd5-e442-b81ac666b268"
      },
      "outputs": [
        {
          "output_type": "stream",
          "name": "stdout",
          "text": [
            "Sentence: im feeling rather rotten so im not very ambitious right now\n",
            "Emotion: 0\n",
            "1/1 [==============================] - 0s 32ms/step\n",
            "Predicted Emotion: 0\n"
          ]
        }
      ],
      "source": [
        "print('Sentence:',test_texts[0])\n",
        "print('Emotion:',test_labels[0])\n",
        "prediction=best_model.predict(np.expand_dims(test_seq[0],axis=0))[0]\n",
        "print('Predicted Emotion:',np.argmax(prediction).astype('uint8'))"
      ]
    },
    {
      "cell_type": "code",
      "execution_count": 127,
      "id": "cf1a58f1",
      "metadata": {
        "colab": {
          "base_uri": "https://localhost:8080/"
        },
        "id": "cf1a58f1",
        "outputId": "866bc89b-a74d-4f2e-d69f-c907441cacb2"
      },
      "outputs": [
        {
          "output_type": "stream",
          "name": "stdout",
          "text": [
            "63/63 [==============================] - 3s 46ms/step - loss: 0.3238 - accuracy: 0.8765\n",
            "0.3238060772418976 0.8765000104904175\n"
          ]
        }
      ],
      "source": [
        "test_loss,test_accuracy = best_model.evaluate(test_seq,test_labels)\n",
        "print(test_loss,test_accuracy)"
      ]
    },
    {
      "cell_type": "code",
      "source": [
        "from sklearn.metrics import f1_score"
      ],
      "metadata": {
        "id": "SBaKpi5t6PuI"
      },
      "id": "SBaKpi5t6PuI",
      "execution_count": 128,
      "outputs": []
    },
    {
      "cell_type": "code",
      "source": [
        "prediction = best_model.predict(test_seq)\n",
        "predicted_labels = np.argmax(prediction,axis=1)\n",
        "f1 = f1_score(test_labels,predicted_labels,average='weighted')\n",
        "print(f1)"
      ],
      "metadata": {
        "colab": {
          "base_uri": "https://localhost:8080/"
        },
        "id": "39f2GmMe812w",
        "outputId": "21757477-521c-4a6e-dbde-bf01322fbe80"
      },
      "id": "39f2GmMe812w",
      "execution_count": 129,
      "outputs": [
        {
          "output_type": "stream",
          "name": "stdout",
          "text": [
            "63/63 [==============================] - 3s 42ms/step\n",
            "0.8757345243949405\n"
          ]
        }
      ]
    },
    {
      "cell_type": "markdown",
      "source": [
        "GRU+ with normal embedding"
      ],
      "metadata": {
        "id": "wBwqCSvl9xTo"
      },
      "id": "wBwqCSvl9xTo"
    },
    {
      "cell_type": "code",
      "source": [
        "'''def build_model2(hp):\n",
        "    model = tf.keras.models.Sequential()\n",
        "\n",
        "\n",
        "    model.add(tf.keras.layers.Embedding(input_dim=len(tokenizer.word_index) + 1, output_dim=hp.Int('embedding_dim', min_value=50, max_value=300, step=50), input_length=maxlength))\n",
        "\n",
        "\n",
        "    model.add(tf.keras.layers.Bidirectional(tf.keras.layers.GRU(units=hp.Int('gru_units', min_value=32, max_value=128, step=32), return_sequences=True)))\n",
        "\n",
        "\n",
        "    model.add(tf.keras.layers.Conv1D(filters=hp.Int('conv_filters', min_value=64, max_value=256, step=64), kernel_size=hp.Int('conv_kernel', min_value=3, max_value=7, step=2), activation='relu'))\n",
        "\n",
        "\n",
        "    model.add(tf.keras.layers.GlobalMaxPooling1D())\n",
        "\n",
        "\n",
        "    model.add(tf.keras.layers.Dense(units=hp.Int('dense_units', min_value=32, max_value=128, step=32), activation='relu'))\n",
        "    model.add(tf.keras.layers.Dropout(rate=hp.Float('dropout_rate', min_value=0.2, max_value=0.5, step=0.1)))\n",
        "    model.add(tf.keras.layers.Dense(6, activation='softmax'))\n",
        "\n",
        "\n",
        "    model.compile(\n",
        "        loss='sparse_categorical_crossentropy',\n",
        "        optimizer='adam',\n",
        "        metrics=['accuracy']\n",
        "    )\n",
        "    return model\n",
        "\n",
        "\n",
        "tuner2 = kt.RandomSearch(\n",
        "    build_model2,\n",
        "    objective='val_accuracy',\n",
        "    max_trials=10,\n",
        "    directory='tuner_directory',  # Directory where to store tuning results\n",
        "    project_name='emotion_classification'\n",
        ")\n",
        "\n",
        "\n",
        "\n",
        "\n",
        "tuner2.search(pad_train_seq, train_labels, epochs=6, validation_data=(val_seq, val_labels))\n",
        "\n",
        "\n",
        "best_model2 = tuner2.get_best_models(num_models=1)[0]'''"
      ],
      "metadata": {
        "colab": {
          "base_uri": "https://localhost:8080/",
          "height": 105
        },
        "id": "3x4Ulz5TKm09",
        "outputId": "1ecb4090-aaac-49ab-9dad-43ef6db02c7a"
      },
      "id": "3x4Ulz5TKm09",
      "execution_count": 133,
      "outputs": [
        {
          "output_type": "execute_result",
          "data": {
            "text/plain": [
              "\"def build_model2(hp):\\n    model = tf.keras.models.Sequential()\\n\\n    # Embedding layer\\n    model.add(tf.keras.layers.Embedding(input_dim=len(tokenizer.word_index) + 1, output_dim=hp.Int('embedding_dim', min_value=50, max_value=300, step=50), input_length=maxlength))\\n\\n    # Bidirectional GRU layer\\n    model.add(tf.keras.layers.Bidirectional(tf.keras.layers.GRU(units=hp.Int('gru_units', min_value=32, max_value=128, step=32), return_sequences=True)))\\n\\n    # Convolutional layer\\n    model.add(tf.keras.layers.Conv1D(filters=hp.Int('conv_filters', min_value=64, max_value=256, step=64), kernel_size=hp.Int('conv_kernel', min_value=3, max_value=7, step=2), activation='relu'))\\n\\n    # Global Max Pooling layer\\n    model.add(tf.keras.layers.GlobalMaxPooling1D())\\n\\n    # Dense layers\\n    model.add(tf.keras.layers.Dense(units=hp.Int('dense_units', min_value=32, max_value=128, step=32), activation='relu'))\\n    model.add(tf.keras.layers.Dropout(rate=hp.Float('dropout_rate', min_value=0.2, max_value=0.5, step=0.1)))\\n    model.add(tf.keras.layers.Dense(6, activation='softmax'))\\n\\n    # Compile the model\\n    model.compile(\\n        loss='sparse_categorical_crossentropy',\\n        optimizer='adam',\\n        metrics=['accuracy']\\n    )\\n    return model\\n\\n# Instantiate the tuner\\ntuner2 = kt.RandomSearch(\\n    build_model2,\\n    objective='val_accuracy',\\n    max_trials=10,\\n    directory='tuner_directory',  # Directory where to store tuning results\\n    project_name='emotion_classification'\\n)\\n\\n# Preprocess the text data and other preprocessing steps\\n\\n# Search for the best hyperparameters\\ntuner2.search(pad_train_seq, train_labels, epochs=6, validation_data=(val_seq, val_labels))\\n\\n# Get the best model\\nbest_model2 = tuner2.get_best_models(num_models=1)[0]\""
            ],
            "application/vnd.google.colaboratory.intrinsic+json": {
              "type": "string"
            }
          },
          "metadata": {},
          "execution_count": 133
        }
      ]
    },
    {
      "cell_type": "code",
      "source": [
        "best_model2 = tf.keras.models.Sequential([\n",
        "    tf.keras.layers.Embedding(input_dim=len(tokenizer.word_index) + 1, output_dim=100, input_length=maxlength),\n",
        "    tf.keras.layers.Bidirectional(tf.keras.layers.GRU(64, return_sequences=True)),\n",
        "    tf.keras.layers.Conv1D(128, 5, activation='relu'),\n",
        "    tf.keras.layers.GlobalMaxPooling1D(),\n",
        "    tf.keras.layers.Dense(64, activation='relu'),\n",
        "    tf.keras.layers.Dropout(0.5),\n",
        "    tf.keras.layers.Dense(6, activation='softmax')\n",
        "])\n",
        "\n",
        "best_model2.compile(\n",
        "    loss='sparse_categorical_crossentropy',\n",
        "    optimizer='adam',\n",
        "    metrics=['accuracy']\n",
        ")"
      ],
      "metadata": {
        "id": "LFyaCGLM9SwA"
      },
      "id": "LFyaCGLM9SwA",
      "execution_count": 134,
      "outputs": []
    },
    {
      "cell_type": "code",
      "source": [
        "best_model2.summary()"
      ],
      "metadata": {
        "colab": {
          "base_uri": "https://localhost:8080/"
        },
        "id": "Zr1cGO1t_-5x",
        "outputId": "0cf80edd-cee4-4077-a861-db420d62f55b"
      },
      "id": "Zr1cGO1t_-5x",
      "execution_count": 135,
      "outputs": [
        {
          "output_type": "stream",
          "name": "stdout",
          "text": [
            "Model: \"sequential_1\"\n",
            "_________________________________________________________________\n",
            " Layer (type)                Output Shape              Param #   \n",
            "=================================================================\n",
            " embedding_1 (Embedding)     (None, 50, 100)           1360800   \n",
            "                                                                 \n",
            " bidirectional_1 (Bidirectio  (None, 50, 128)          63744     \n",
            " nal)                                                            \n",
            "                                                                 \n",
            " conv1d_1 (Conv1D)           (None, 46, 128)           82048     \n",
            "                                                                 \n",
            " global_max_pooling1d_1 (Glo  (None, 128)              0         \n",
            " balMaxPooling1D)                                                \n",
            "                                                                 \n",
            " dense_2 (Dense)             (None, 64)                8256      \n",
            "                                                                 \n",
            " dropout_1 (Dropout)         (None, 64)                0         \n",
            "                                                                 \n",
            " dense_3 (Dense)             (None, 6)                 390       \n",
            "                                                                 \n",
            "=================================================================\n",
            "Total params: 1,515,238\n",
            "Trainable params: 1,515,238\n",
            "Non-trainable params: 0\n",
            "_________________________________________________________________\n"
          ]
        }
      ]
    },
    {
      "cell_type": "code",
      "source": [
        "analyser = best_model2.fit(pad_train_seq, train_labels, validation_data=(val_seq, val_labels), epochs=30, callbacks=[tf.keras.callbacks.EarlyStopping(monitor='val_accuracy',patience=2)])\n",
        "#analyser=model.fit(\n",
        " #              pad_train_seq,train_labels,validation_data=(val_seq,val_labels),\n",
        "  #             callbacks=[tf.keras.callbacks.EarlyStopping(monitor='val_accuracy',patience=2)])"
      ],
      "metadata": {
        "colab": {
          "base_uri": "https://localhost:8080/"
        },
        "id": "bToCeAFdDXAR",
        "outputId": "1ff83fd6-b8f9-4638-e906-1c26f4016272"
      },
      "id": "bToCeAFdDXAR",
      "execution_count": 136,
      "outputs": [
        {
          "output_type": "stream",
          "name": "stdout",
          "text": [
            "Epoch 1/30\n",
            "500/500 [==============================] - 59s 110ms/step - loss: 0.9711 - accuracy: 0.6295 - val_loss: 0.4060 - val_accuracy: 0.8615\n",
            "Epoch 2/30\n",
            "500/500 [==============================] - 56s 111ms/step - loss: 0.3629 - accuracy: 0.8683 - val_loss: 0.3627 - val_accuracy: 0.8565\n",
            "Epoch 3/30\n",
            "500/500 [==============================] - 53s 106ms/step - loss: 0.3046 - accuracy: 0.8823 - val_loss: 0.3291 - val_accuracy: 0.8700\n",
            "Epoch 4/30\n",
            "500/500 [==============================] - 56s 113ms/step - loss: 0.2719 - accuracy: 0.8884 - val_loss: 0.3310 - val_accuracy: 0.8665\n",
            "Epoch 5/30\n",
            "500/500 [==============================] - 53s 105ms/step - loss: 0.2472 - accuracy: 0.8923 - val_loss: 0.3468 - val_accuracy: 0.8650\n"
          ]
        }
      ]
    },
    {
      "cell_type": "code",
      "source": [
        "print('Sentence:',test_texts[0])\n",
        "print('Emotion:',test_labels[0])\n",
        "prediction=best_model2.predict(np.expand_dims(test_seq[0],axis=0))[0]\n",
        "print('Predicted Emotion:',np.argmax(prediction).astype('uint8'))"
      ],
      "metadata": {
        "colab": {
          "base_uri": "https://localhost:8080/"
        },
        "id": "WYa1hOhADtN7",
        "outputId": "def133da-adfc-427a-de77-538b1274f2ac"
      },
      "id": "WYa1hOhADtN7",
      "execution_count": 137,
      "outputs": [
        {
          "output_type": "stream",
          "name": "stdout",
          "text": [
            "Sentence: im feeling rather rotten so im not very ambitious right now\n",
            "Emotion: 0\n",
            "1/1 [==============================] - 1s 761ms/step\n",
            "Predicted Emotion: 0\n"
          ]
        }
      ]
    },
    {
      "cell_type": "code",
      "source": [
        "test_loss2,test_accuracy2 = best_model2.evaluate(test_seq,test_labels)\n",
        "print(test_loss2,test_accuracy2)"
      ],
      "metadata": {
        "colab": {
          "base_uri": "https://localhost:8080/"
        },
        "id": "xV03BJMdSRue",
        "outputId": "fb42046c-a4ff-443c-dcd4-31af5f8e73b3"
      },
      "id": "xV03BJMdSRue",
      "execution_count": 138,
      "outputs": [
        {
          "output_type": "stream",
          "name": "stdout",
          "text": [
            "63/63 [==============================] - 3s 40ms/step - loss: 0.3097 - accuracy: 0.8665\n",
            "0.30971765518188477 0.8665000200271606\n"
          ]
        }
      ]
    },
    {
      "cell_type": "code",
      "source": [
        "prediction2 = best_model2.predict(test_seq)\n",
        "predicted_labels2 = np.argmax(prediction2,axis=1)\n",
        "f1_2 = f1_score(test_labels,predicted_labels2,average='weighted')\n",
        "print(f1_2)"
      ],
      "metadata": {
        "colab": {
          "base_uri": "https://localhost:8080/"
        },
        "id": "RDl7dgCSSfaK",
        "outputId": "4d553597-f64f-422e-bfd1-ec40077c0ada"
      },
      "id": "RDl7dgCSSfaK",
      "execution_count": 139,
      "outputs": [
        {
          "output_type": "stream",
          "name": "stdout",
          "text": [
            "63/63 [==============================] - 1s 21ms/step\n",
            "0.865226331746653\n"
          ]
        }
      ]
    }
  ],
  "metadata": {
    "kernelspec": {
      "display_name": "Python 3 (ipykernel)",
      "language": "python",
      "name": "python3"
    },
    "language_info": {
      "codemirror_mode": {
        "name": "ipython",
        "version": 3
      },
      "file_extension": ".py",
      "mimetype": "text/x-python",
      "name": "python",
      "nbconvert_exporter": "python",
      "pygments_lexer": "ipython3",
      "version": "3.9.7"
    },
    "colab": {
      "provenance": []
    }
  },
  "nbformat": 4,
  "nbformat_minor": 5
}